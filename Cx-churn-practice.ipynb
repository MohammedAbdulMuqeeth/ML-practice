{
 "cells": [
  {
   "cell_type": "code",
   "execution_count": 1,
   "metadata": {},
   "outputs": [],
   "source": [
    "#3 parts; 1: data preprocessing, 2:Building NN, 3:Prediction & Evaluation"
   ]
  },
  {
   "cell_type": "code",
   "execution_count": 2,
   "metadata": {},
   "outputs": [],
   "source": [
    "import numpy as np\n",
    "import pandas as pd\n",
    "import matplotlib.pyplot as plt"
   ]
  },
  {
   "cell_type": "code",
   "execution_count": 3,
   "metadata": {},
   "outputs": [],
   "source": [
    "cust_df = pd.read_csv('d:/dataset/customerchurn.csv')"
   ]
  },
  {
   "cell_type": "code",
   "execution_count": 4,
   "metadata": {},
   "outputs": [
    {
     "data": {
      "text/html": [
       "<div>\n",
       "<style scoped>\n",
       "    .dataframe tbody tr th:only-of-type {\n",
       "        vertical-align: middle;\n",
       "    }\n",
       "\n",
       "    .dataframe tbody tr th {\n",
       "        vertical-align: top;\n",
       "    }\n",
       "\n",
       "    .dataframe thead th {\n",
       "        text-align: right;\n",
       "    }\n",
       "</style>\n",
       "<table border=\"1\" class=\"dataframe\">\n",
       "  <thead>\n",
       "    <tr style=\"text-align: right;\">\n",
       "      <th></th>\n",
       "      <th>RowNumber</th>\n",
       "      <th>CustomerId</th>\n",
       "      <th>Surname</th>\n",
       "      <th>CreditScore</th>\n",
       "      <th>Geography</th>\n",
       "      <th>Gender</th>\n",
       "      <th>Age</th>\n",
       "      <th>Tenure</th>\n",
       "      <th>Balance</th>\n",
       "      <th>NumOfProducts</th>\n",
       "      <th>HasCrCard</th>\n",
       "      <th>IsActiveMember</th>\n",
       "      <th>EstimatedSalary</th>\n",
       "      <th>Exited</th>\n",
       "    </tr>\n",
       "  </thead>\n",
       "  <tbody>\n",
       "    <tr>\n",
       "      <th>0</th>\n",
       "      <td>1</td>\n",
       "      <td>15634602</td>\n",
       "      <td>Hargrave</td>\n",
       "      <td>619</td>\n",
       "      <td>France</td>\n",
       "      <td>Female</td>\n",
       "      <td>42</td>\n",
       "      <td>2</td>\n",
       "      <td>0.00</td>\n",
       "      <td>1</td>\n",
       "      <td>1</td>\n",
       "      <td>1</td>\n",
       "      <td>101348.88</td>\n",
       "      <td>1</td>\n",
       "    </tr>\n",
       "    <tr>\n",
       "      <th>1</th>\n",
       "      <td>2</td>\n",
       "      <td>15647311</td>\n",
       "      <td>Hill</td>\n",
       "      <td>608</td>\n",
       "      <td>Spain</td>\n",
       "      <td>Female</td>\n",
       "      <td>41</td>\n",
       "      <td>1</td>\n",
       "      <td>83807.86</td>\n",
       "      <td>1</td>\n",
       "      <td>0</td>\n",
       "      <td>1</td>\n",
       "      <td>112542.58</td>\n",
       "      <td>0</td>\n",
       "    </tr>\n",
       "    <tr>\n",
       "      <th>2</th>\n",
       "      <td>3</td>\n",
       "      <td>15619304</td>\n",
       "      <td>Onio</td>\n",
       "      <td>502</td>\n",
       "      <td>France</td>\n",
       "      <td>Female</td>\n",
       "      <td>42</td>\n",
       "      <td>8</td>\n",
       "      <td>159660.80</td>\n",
       "      <td>3</td>\n",
       "      <td>1</td>\n",
       "      <td>0</td>\n",
       "      <td>113931.57</td>\n",
       "      <td>1</td>\n",
       "    </tr>\n",
       "    <tr>\n",
       "      <th>3</th>\n",
       "      <td>4</td>\n",
       "      <td>15701354</td>\n",
       "      <td>Boni</td>\n",
       "      <td>699</td>\n",
       "      <td>France</td>\n",
       "      <td>Female</td>\n",
       "      <td>39</td>\n",
       "      <td>1</td>\n",
       "      <td>0.00</td>\n",
       "      <td>2</td>\n",
       "      <td>0</td>\n",
       "      <td>0</td>\n",
       "      <td>93826.63</td>\n",
       "      <td>0</td>\n",
       "    </tr>\n",
       "    <tr>\n",
       "      <th>4</th>\n",
       "      <td>5</td>\n",
       "      <td>15737888</td>\n",
       "      <td>Mitchell</td>\n",
       "      <td>850</td>\n",
       "      <td>Spain</td>\n",
       "      <td>Female</td>\n",
       "      <td>43</td>\n",
       "      <td>2</td>\n",
       "      <td>125510.82</td>\n",
       "      <td>1</td>\n",
       "      <td>1</td>\n",
       "      <td>1</td>\n",
       "      <td>79084.10</td>\n",
       "      <td>0</td>\n",
       "    </tr>\n",
       "  </tbody>\n",
       "</table>\n",
       "</div>"
      ],
      "text/plain": [
       "   RowNumber  CustomerId   Surname  CreditScore Geography  Gender  Age  \\\n",
       "0          1    15634602  Hargrave          619    France  Female   42   \n",
       "1          2    15647311      Hill          608     Spain  Female   41   \n",
       "2          3    15619304      Onio          502    France  Female   42   \n",
       "3          4    15701354      Boni          699    France  Female   39   \n",
       "4          5    15737888  Mitchell          850     Spain  Female   43   \n",
       "\n",
       "   Tenure    Balance  NumOfProducts  HasCrCard  IsActiveMember  \\\n",
       "0       2       0.00              1          1               1   \n",
       "1       1   83807.86              1          0               1   \n",
       "2       8  159660.80              3          1               0   \n",
       "3       1       0.00              2          0               0   \n",
       "4       2  125510.82              1          1               1   \n",
       "\n",
       "   EstimatedSalary  Exited  \n",
       "0        101348.88       1  \n",
       "1        112542.58       0  \n",
       "2        113931.57       1  \n",
       "3         93826.63       0  \n",
       "4         79084.10       0  "
      ]
     },
     "execution_count": 4,
     "metadata": {},
     "output_type": "execute_result"
    }
   ],
   "source": [
    "cust_df.head()"
   ]
  },
  {
   "cell_type": "code",
   "execution_count": 5,
   "metadata": {},
   "outputs": [],
   "source": [
    "#DATA PREPROCESSING STEP"
   ]
  },
  {
   "cell_type": "code",
   "execution_count": 6,
   "metadata": {},
   "outputs": [],
   "source": [
    "X = cust_df.iloc[:,3:13].values"
   ]
  },
  {
   "cell_type": "code",
   "execution_count": 7,
   "metadata": {},
   "outputs": [],
   "source": [
    "y = cust_df.iloc[:,13].values"
   ]
  },
  {
   "cell_type": "code",
   "execution_count": 8,
   "metadata": {},
   "outputs": [
    {
     "data": {
      "text/plain": [
       "array([[619, 'France', 'Female', ..., 1, 1, 101348.88],\n",
       "       [608, 'Spain', 'Female', ..., 0, 1, 112542.58],\n",
       "       [502, 'France', 'Female', ..., 1, 0, 113931.57],\n",
       "       ...,\n",
       "       [709, 'France', 'Female', ..., 0, 1, 42085.58],\n",
       "       [772, 'Germany', 'Male', ..., 1, 0, 92888.52],\n",
       "       [792, 'France', 'Female', ..., 1, 0, 38190.78]], dtype=object)"
      ]
     },
     "execution_count": 8,
     "metadata": {},
     "output_type": "execute_result"
    }
   ],
   "source": [
    "X"
   ]
  },
  {
   "cell_type": "code",
   "execution_count": 9,
   "metadata": {},
   "outputs": [],
   "source": [
    "from sklearn.preprocessing import LabelEncoder,OneHotEncoder"
   ]
  },
  {
   "cell_type": "code",
   "execution_count": 10,
   "metadata": {},
   "outputs": [],
   "source": [
    "labelencoder_X_1 = LabelEncoder()"
   ]
  },
  {
   "cell_type": "code",
   "execution_count": 11,
   "metadata": {},
   "outputs": [],
   "source": [
    "X[:,1] = labelencoder_X_1.fit_transform(X[:,1])"
   ]
  },
  {
   "cell_type": "code",
   "execution_count": 12,
   "metadata": {},
   "outputs": [
    {
     "data": {
      "text/plain": [
       "array([[619, 0, 'Female', ..., 1, 1, 101348.88],\n",
       "       [608, 2, 'Female', ..., 0, 1, 112542.58],\n",
       "       [502, 0, 'Female', ..., 1, 0, 113931.57],\n",
       "       ...,\n",
       "       [709, 0, 'Female', ..., 0, 1, 42085.58],\n",
       "       [772, 1, 'Male', ..., 1, 0, 92888.52],\n",
       "       [792, 0, 'Female', ..., 1, 0, 38190.78]], dtype=object)"
      ]
     },
     "execution_count": 12,
     "metadata": {},
     "output_type": "execute_result"
    }
   ],
   "source": [
    "X"
   ]
  },
  {
   "cell_type": "code",
   "execution_count": 13,
   "metadata": {},
   "outputs": [],
   "source": [
    "labelencoder_x_2 = LabelEncoder()"
   ]
  },
  {
   "cell_type": "code",
   "execution_count": 14,
   "metadata": {},
   "outputs": [],
   "source": [
    "X[:,2] = labelencoder_x_2.fit_transform(X[:,2])"
   ]
  },
  {
   "cell_type": "code",
   "execution_count": 15,
   "metadata": {},
   "outputs": [
    {
     "data": {
      "text/plain": [
       "array([[619, 0, 0, ..., 1, 1, 101348.88],\n",
       "       [608, 2, 0, ..., 0, 1, 112542.58],\n",
       "       [502, 0, 0, ..., 1, 0, 113931.57],\n",
       "       ...,\n",
       "       [709, 0, 0, ..., 0, 1, 42085.58],\n",
       "       [772, 1, 1, ..., 1, 0, 92888.52],\n",
       "       [792, 0, 0, ..., 1, 0, 38190.78]], dtype=object)"
      ]
     },
     "execution_count": 15,
     "metadata": {},
     "output_type": "execute_result"
    }
   ],
   "source": [
    "X"
   ]
  },
  {
   "cell_type": "code",
   "execution_count": 16,
   "metadata": {},
   "outputs": [],
   "source": [
    "#for Geography\n",
    "\n",
    "onehotencoder = OneHotEncoder(categorical_features=[1])"
   ]
  },
  {
   "cell_type": "code",
   "execution_count": 17,
   "metadata": {},
   "outputs": [
    {
     "name": "stderr",
     "output_type": "stream",
     "text": [
      "C:\\Users\\abdul\\Anaconda3\\lib\\site-packages\\sklearn\\preprocessing\\_encoders.py:415: FutureWarning: The handling of integer data will change in version 0.22. Currently, the categories are determined based on the range [0, max(values)], while in the future they will be determined based on the unique values.\n",
      "If you want the future behaviour and silence this warning, you can specify \"categories='auto'\".\n",
      "In case you used a LabelEncoder before this OneHotEncoder to convert the categories to integers, then you can now use the OneHotEncoder directly.\n",
      "  warnings.warn(msg, FutureWarning)\n",
      "C:\\Users\\abdul\\Anaconda3\\lib\\site-packages\\sklearn\\preprocessing\\_encoders.py:451: DeprecationWarning: The 'categorical_features' keyword is deprecated in version 0.20 and will be removed in 0.22. You can use the ColumnTransformer instead.\n",
      "  \"use the ColumnTransformer instead.\", DeprecationWarning)\n"
     ]
    }
   ],
   "source": [
    "X = onehotencoder.fit_transform(X).toarray()"
   ]
  },
  {
   "cell_type": "code",
   "execution_count": 18,
   "metadata": {},
   "outputs": [
    {
     "data": {
      "text/plain": [
       "(10000, 12)"
      ]
     },
     "execution_count": 18,
     "metadata": {},
     "output_type": "execute_result"
    }
   ],
   "source": [
    "X.shape"
   ]
  },
  {
   "cell_type": "code",
   "execution_count": 19,
   "metadata": {},
   "outputs": [
    {
     "data": {
      "text/plain": [
       "array([[1.0000000e+00, 0.0000000e+00, 0.0000000e+00, ..., 1.0000000e+00,\n",
       "        1.0000000e+00, 1.0134888e+05],\n",
       "       [0.0000000e+00, 0.0000000e+00, 1.0000000e+00, ..., 0.0000000e+00,\n",
       "        1.0000000e+00, 1.1254258e+05],\n",
       "       [1.0000000e+00, 0.0000000e+00, 0.0000000e+00, ..., 1.0000000e+00,\n",
       "        0.0000000e+00, 1.1393157e+05],\n",
       "       ...,\n",
       "       [1.0000000e+00, 0.0000000e+00, 0.0000000e+00, ..., 0.0000000e+00,\n",
       "        1.0000000e+00, 4.2085580e+04],\n",
       "       [0.0000000e+00, 1.0000000e+00, 0.0000000e+00, ..., 1.0000000e+00,\n",
       "        0.0000000e+00, 9.2888520e+04],\n",
       "       [1.0000000e+00, 0.0000000e+00, 0.0000000e+00, ..., 1.0000000e+00,\n",
       "        0.0000000e+00, 3.8190780e+04]])"
      ]
     },
     "execution_count": 19,
     "metadata": {},
     "output_type": "execute_result"
    }
   ],
   "source": [
    "X"
   ]
  },
  {
   "cell_type": "code",
   "execution_count": 20,
   "metadata": {},
   "outputs": [],
   "source": [
    "X = X[:,1:]"
   ]
  },
  {
   "cell_type": "code",
   "execution_count": 21,
   "metadata": {},
   "outputs": [
    {
     "data": {
      "text/plain": [
       "(10000, 11)"
      ]
     },
     "execution_count": 21,
     "metadata": {},
     "output_type": "execute_result"
    }
   ],
   "source": [
    "X.shape"
   ]
  },
  {
   "cell_type": "code",
   "execution_count": 22,
   "metadata": {},
   "outputs": [],
   "source": [
    "from sklearn.model_selection import train_test_split"
   ]
  },
  {
   "cell_type": "code",
   "execution_count": 23,
   "metadata": {},
   "outputs": [],
   "source": [
    "X_train,X_test, y_train,y_test = train_test_split(X,y, test_size=0.25)"
   ]
  },
  {
   "cell_type": "code",
   "execution_count": 24,
   "metadata": {},
   "outputs": [],
   "source": [
    "#feature scaling -- required for deep learning\n",
    "\n",
    "from sklearn.preprocessing import StandardScaler\n",
    "sc = StandardScaler()\n",
    "X_train = sc.fit_transform(X_train)\n",
    "X_test = sc.fit_transform(X_test)"
   ]
  },
  {
   "cell_type": "code",
   "execution_count": 25,
   "metadata": {},
   "outputs": [
    {
     "name": "stderr",
     "output_type": "stream",
     "text": [
      "Using TensorFlow backend.\n"
     ]
    }
   ],
   "source": [
    "import keras"
   ]
  },
  {
   "cell_type": "code",
   "execution_count": 26,
   "metadata": {},
   "outputs": [],
   "source": [
    "from keras.models import Sequential\n",
    "from keras.layers import Dense"
   ]
  },
  {
   "cell_type": "code",
   "execution_count": 27,
   "metadata": {},
   "outputs": [],
   "source": [
    "#initialize the NN\n",
    "\n",
    "customer_classifier = Sequential()"
   ]
  },
  {
   "cell_type": "code",
   "execution_count": 28,
   "metadata": {},
   "outputs": [
    {
     "name": "stderr",
     "output_type": "stream",
     "text": [
      "C:\\Users\\abdul\\Anaconda3\\lib\\site-packages\\ipykernel_launcher.py:3: UserWarning: Update your `Dense` call to the Keras 2 API: `Dense(activation=\"relu\", input_dim=11, units=6, kernel_initializer=\"uniform\")`\n",
      "  This is separate from the ipykernel package so we can avoid doing imports until\n"
     ]
    }
   ],
   "source": [
    "#adding first input layer and hidden layer\n",
    "\n",
    "customer_classifier.add(Dense(output_dim = 6, init = 'uniform',activation='relu',input_dim=11))"
   ]
  },
  {
   "cell_type": "code",
   "execution_count": 29,
   "metadata": {},
   "outputs": [
    {
     "name": "stderr",
     "output_type": "stream",
     "text": [
      "C:\\Users\\abdul\\Anaconda3\\lib\\site-packages\\ipykernel_launcher.py:2: UserWarning: Update your `Dense` call to the Keras 2 API: `Dense(activation=\"relu\", units=6, kernel_initializer=\"uniform\")`\n",
      "  \n"
     ]
    }
   ],
   "source": [
    "#second hidden layer\n",
    "customer_classifier.add(Dense(output_dim = 6, init = 'uniform',activation='relu'))"
   ]
  },
  {
   "cell_type": "code",
   "execution_count": 30,
   "metadata": {},
   "outputs": [
    {
     "name": "stderr",
     "output_type": "stream",
     "text": [
      "C:\\Users\\abdul\\Anaconda3\\lib\\site-packages\\ipykernel_launcher.py:2: UserWarning: Update your `Dense` call to the Keras 2 API: `Dense(activation=\"relu\", units=6, kernel_initializer=\"uniform\")`\n",
      "  \n"
     ]
    }
   ],
   "source": [
    "#third hidden layer\n",
    "customer_classifier.add(Dense(output_dim = 6, init = 'uniform',activation='relu'))"
   ]
  },
  {
   "cell_type": "code",
   "execution_count": 31,
   "metadata": {},
   "outputs": [
    {
     "name": "stderr",
     "output_type": "stream",
     "text": [
      "C:\\Users\\abdul\\Anaconda3\\lib\\site-packages\\ipykernel_launcher.py:1: UserWarning: Update your `Dense` call to the Keras 2 API: `Dense(activation=\"sigmoid\", units=1, kernel_initializer=\"uniform\")`\n",
      "  \"\"\"Entry point for launching an IPython kernel.\n"
     ]
    }
   ],
   "source": [
    "customer_classifier.add(Dense(output_dim = 1, init = 'uniform',activation='sigmoid'))"
   ]
  },
  {
   "cell_type": "code",
   "execution_count": 32,
   "metadata": {},
   "outputs": [],
   "source": [
    "#compile\n",
    "customer_classifier.compile(optimizer='adam',loss='binary_crossentropy',metrics=['accuracy'])"
   ]
  },
  {
   "cell_type": "code",
   "execution_count": 33,
   "metadata": {},
   "outputs": [
    {
     "name": "stderr",
     "output_type": "stream",
     "text": [
      "C:\\Users\\abdul\\Anaconda3\\lib\\site-packages\\ipykernel_launcher.py:1: UserWarning: The `nb_epoch` argument in `fit` has been renamed `epochs`.\n",
      "  \"\"\"Entry point for launching an IPython kernel.\n"
     ]
    },
    {
     "name": "stdout",
     "output_type": "stream",
     "text": [
      "Epoch 1/300\n",
      "7500/7500 [==============================] - 4s 475us/step - loss: 0.4886 - accuracy: 0.7945\n",
      "Epoch 2/300\n",
      "7500/7500 [==============================] - 2s 213us/step - loss: 0.4223 - accuracy: 0.79480s - loss: 0.426\n",
      "Epoch 3/300\n",
      "7500/7500 [==============================] - 2s 206us/step - loss: 0.4160 - accuracy: 0.8087\n",
      "Epoch 4/300\n",
      "7500/7500 [==============================] - 2s 217us/step - loss: 0.4128 - accuracy: 0.8284\n",
      "Epoch 5/300\n",
      "7500/7500 [==============================] - 2s 207us/step - loss: 0.4102 - accuracy: 0.8336\n",
      "Epoch 6/300\n",
      "7500/7500 [==============================] - 2s 210us/step - loss: 0.4083 - accuracy: 0.8344\n",
      "Epoch 7/300\n",
      "7500/7500 [==============================] - 2s 217us/step - loss: 0.4064 - accuracy: 0.8375\n",
      "Epoch 8/300\n",
      "7500/7500 [==============================] - 2s 209us/step - loss: 0.4046 - accuracy: 0.8356\n",
      "Epoch 9/300\n",
      "7500/7500 [==============================] - 2s 211us/step - loss: 0.4035 - accuracy: 0.8377\n",
      "Epoch 10/300\n",
      "7500/7500 [==============================] - 2s 212us/step - loss: 0.4031 - accuracy: 0.8353\n",
      "Epoch 11/300\n",
      "7500/7500 [==============================] - 2s 222us/step - loss: 0.4017 - accuracy: 0.8372\n",
      "Epoch 12/300\n",
      "7500/7500 [==============================] - 2s 224us/step - loss: 0.4006 - accuracy: 0.8364\n",
      "Epoch 13/300\n",
      "7500/7500 [==============================] - 2s 223us/step - loss: 0.3998 - accuracy: 0.8371\n",
      "Epoch 14/300\n",
      "7500/7500 [==============================] - 2s 213us/step - loss: 0.3988 - accuracy: 0.8371\n",
      "Epoch 15/300\n",
      "7500/7500 [==============================] - 2s 223us/step - loss: 0.3984 - accuracy: 0.8388\n",
      "Epoch 16/300\n",
      "7500/7500 [==============================] - 2s 231us/step - loss: 0.3976 - accuracy: 0.8375\n",
      "Epoch 17/300\n",
      "7500/7500 [==============================] - 2s 232us/step - loss: 0.3977 - accuracy: 0.8363\n",
      "Epoch 18/300\n",
      "7500/7500 [==============================] - 2s 211us/step - loss: 0.3965 - accuracy: 0.8367\n",
      "Epoch 19/300\n",
      "7500/7500 [==============================] - 2s 205us/step - loss: 0.3960 - accuracy: 0.8375\n",
      "Epoch 20/300\n",
      "7500/7500 [==============================] - 2s 220us/step - loss: 0.3955 - accuracy: 0.8371\n",
      "Epoch 21/300\n",
      "7500/7500 [==============================] - 2s 222us/step - loss: 0.3955 - accuracy: 0.8387\n",
      "Epoch 22/300\n",
      "7500/7500 [==============================] - 2s 214us/step - loss: 0.3952 - accuracy: 0.8389\n",
      "Epoch 23/300\n",
      "7500/7500 [==============================] - 2s 218us/step - loss: 0.3950 - accuracy: 0.8373\n",
      "Epoch 24/300\n",
      "7500/7500 [==============================] - 2s 218us/step - loss: 0.3938 - accuracy: 0.8380\n",
      "Epoch 25/300\n",
      "7500/7500 [==============================] - 2s 225us/step - loss: 0.3941 - accuracy: 0.8391\n",
      "Epoch 26/300\n",
      "7500/7500 [==============================] - 2s 218us/step - loss: 0.3931 - accuracy: 0.8400\n",
      "Epoch 27/300\n",
      "7500/7500 [==============================] - 2s 237us/step - loss: 0.3938 - accuracy: 0.8385\n",
      "Epoch 28/300\n",
      "7500/7500 [==============================] - 2s 217us/step - loss: 0.3938 - accuracy: 0.8387\n",
      "Epoch 29/300\n",
      "7500/7500 [==============================] - 2s 226us/step - loss: 0.3933 - accuracy: 0.8380\n",
      "Epoch 30/300\n",
      "7500/7500 [==============================] - 2s 213us/step - loss: 0.3931 - accuracy: 0.8372\n",
      "Epoch 31/300\n",
      "7500/7500 [==============================] - 2s 224us/step - loss: 0.3931 - accuracy: 0.8383\n",
      "Epoch 32/300\n",
      "7500/7500 [==============================] - 2s 225us/step - loss: 0.3929 - accuracy: 0.8388\n",
      "Epoch 33/300\n",
      "7500/7500 [==============================] - 2s 213us/step - loss: 0.3926 - accuracy: 0.8391\n",
      "Epoch 34/300\n",
      "7500/7500 [==============================] - 2s 222us/step - loss: 0.3919 - accuracy: 0.8416\n",
      "Epoch 35/300\n",
      "7500/7500 [==============================] - 2s 230us/step - loss: 0.3926 - accuracy: 0.8377\n",
      "Epoch 36/300\n",
      "7500/7500 [==============================] - 2s 219us/step - loss: 0.3922 - accuracy: 0.8396\n",
      "Epoch 37/300\n",
      "7500/7500 [==============================] - 2s 218us/step - loss: 0.3920 - accuracy: 0.8388\n",
      "Epoch 38/300\n",
      "7500/7500 [==============================] - 2s 215us/step - loss: 0.3918 - accuracy: 0.8372\n",
      "Epoch 39/300\n",
      "7500/7500 [==============================] - 2s 211us/step - loss: 0.3923 - accuracy: 0.8393\n",
      "Epoch 40/300\n",
      "7500/7500 [==============================] - 2s 218us/step - loss: 0.3918 - accuracy: 0.8396\n",
      "Epoch 41/300\n",
      "7500/7500 [==============================] - 2s 221us/step - loss: 0.3913 - accuracy: 0.8399\n",
      "Epoch 42/300\n",
      "7500/7500 [==============================] - 2s 218us/step - loss: 0.3905 - accuracy: 0.8373\n",
      "Epoch 43/300\n",
      "7500/7500 [==============================] - 2s 228us/step - loss: 0.3910 - accuracy: 0.8400\n",
      "Epoch 44/300\n",
      "7500/7500 [==============================] - 2s 216us/step - loss: 0.3907 - accuracy: 0.8393\n",
      "Epoch 45/300\n",
      "7500/7500 [==============================] - 2s 228us/step - loss: 0.3905 - accuracy: 0.8397\n",
      "Epoch 46/300\n",
      "7500/7500 [==============================] - 2s 220us/step - loss: 0.3903 - accuracy: 0.8417\n",
      "Epoch 47/300\n",
      "7500/7500 [==============================] - 2s 220us/step - loss: 0.3909 - accuracy: 0.8401\n",
      "Epoch 48/300\n",
      "7500/7500 [==============================] - 2s 214us/step - loss: 0.3909 - accuracy: 0.8376\n",
      "Epoch 49/300\n",
      "7500/7500 [==============================] - 2s 219us/step - loss: 0.3897 - accuracy: 0.8416\n",
      "Epoch 50/300\n",
      "7500/7500 [==============================] - 2s 224us/step - loss: 0.3904 - accuracy: 0.8407\n",
      "Epoch 51/300\n",
      "7500/7500 [==============================] - 2s 210us/step - loss: 0.3897 - accuracy: 0.8381\n",
      "Epoch 52/300\n",
      "7500/7500 [==============================] - 2s 227us/step - loss: 0.3897 - accuracy: 0.8392\n",
      "Epoch 53/300\n",
      "7500/7500 [==============================] - 2s 218us/step - loss: 0.3890 - accuracy: 0.8417\n",
      "Epoch 54/300\n",
      "7500/7500 [==============================] - 2s 254us/step - loss: 0.3890 - accuracy: 0.8399\n",
      "Epoch 55/300\n",
      "7500/7500 [==============================] - 2s 217us/step - loss: 0.3879 - accuracy: 0.8419\n",
      "Epoch 56/300\n",
      "7500/7500 [==============================] - 2s 213us/step - loss: 0.3892 - accuracy: 0.8391\n",
      "Epoch 57/300\n",
      "7500/7500 [==============================] - 2s 216us/step - loss: 0.3886 - accuracy: 0.8397\n",
      "Epoch 58/300\n",
      "7500/7500 [==============================] - 2s 235us/step - loss: 0.3886 - accuracy: 0.8404\n",
      "Epoch 59/300\n",
      "7500/7500 [==============================] - 2s 217us/step - loss: 0.3890 - accuracy: 0.8404\n",
      "Epoch 60/300\n",
      "7500/7500 [==============================] - 2s 214us/step - loss: 0.3886 - accuracy: 0.8416\n",
      "Epoch 61/300\n",
      "7500/7500 [==============================] - 2s 245us/step - loss: 0.3883 - accuracy: 0.8401\n",
      "Epoch 62/300\n",
      "7500/7500 [==============================] - 2s 228us/step - loss: 0.3886 - accuracy: 0.8407\n",
      "Epoch 63/300\n",
      "7500/7500 [==============================] - 2s 231us/step - loss: 0.3889 - accuracy: 0.8409\n",
      "Epoch 64/300\n",
      "7500/7500 [==============================] - 2s 231us/step - loss: 0.3889 - accuracy: 0.8399\n",
      "Epoch 65/300\n",
      "7500/7500 [==============================] - 2s 233us/step - loss: 0.3878 - accuracy: 0.8416\n",
      "Epoch 66/300\n",
      "7500/7500 [==============================] - ETA: 0s - loss: 0.3891 - accuracy: 0.84 - 2s 219us/step - loss: 0.3883 - accuracy: 0.8415\n",
      "Epoch 67/300\n",
      "7500/7500 [==============================] - 2s 225us/step - loss: 0.3882 - accuracy: 0.8397\n",
      "Epoch 68/300\n",
      "7500/7500 [==============================] - 2s 221us/step - loss: 0.3868 - accuracy: 0.8427\n",
      "Epoch 69/300\n",
      "7500/7500 [==============================] - 2s 212us/step - loss: 0.3880 - accuracy: 0.8409\n",
      "Epoch 70/300\n",
      "7500/7500 [==============================] - 2s 230us/step - loss: 0.3870 - accuracy: 0.8405\n",
      "Epoch 71/300\n",
      "7500/7500 [==============================] - 2s 224us/step - loss: 0.3878 - accuracy: 0.8421\n",
      "Epoch 72/300\n",
      "7500/7500 [==============================] - 2s 225us/step - loss: 0.3872 - accuracy: 0.8401\n",
      "Epoch 73/300\n",
      "7500/7500 [==============================] - 2s 224us/step - loss: 0.3882 - accuracy: 0.8403\n",
      "Epoch 74/300\n",
      "7500/7500 [==============================] - 2s 217us/step - loss: 0.3873 - accuracy: 0.8405\n",
      "Epoch 75/300\n",
      "7500/7500 [==============================] - 2s 231us/step - loss: 0.3873 - accuracy: 0.8407\n",
      "Epoch 76/300\n",
      "7500/7500 [==============================] - 2s 230us/step - loss: 0.3869 - accuracy: 0.8405\n",
      "Epoch 77/300\n",
      "7500/7500 [==============================] - 2s 208us/step - loss: 0.3872 - accuracy: 0.8401\n",
      "Epoch 78/300\n",
      "7500/7500 [==============================] - 2s 218us/step - loss: 0.3874 - accuracy: 0.8400\n",
      "Epoch 79/300\n",
      "7500/7500 [==============================] - 2s 210us/step - loss: 0.3879 - accuracy: 0.8420\n",
      "Epoch 80/300\n",
      "7500/7500 [==============================] - 1s 196us/step - loss: 0.3861 - accuracy: 0.8421\n",
      "Epoch 81/300\n",
      "7500/7500 [==============================] - 2s 210us/step - loss: 0.3868 - accuracy: 0.8428\n",
      "Epoch 82/300\n",
      "7500/7500 [==============================] - 1s 197us/step - loss: 0.3871 - accuracy: 0.8403\n",
      "Epoch 83/300\n",
      "7500/7500 [==============================] - 2s 210us/step - loss: 0.3869 - accuracy: 0.8425\n",
      "Epoch 84/300\n",
      "7500/7500 [==============================] - 1s 199us/step - loss: 0.3871 - accuracy: 0.8399\n",
      "Epoch 85/300\n",
      "7500/7500 [==============================] - 2s 207us/step - loss: 0.3862 - accuracy: 0.8411\n",
      "Epoch 86/300\n",
      "7500/7500 [==============================] - 2s 201us/step - loss: 0.3861 - accuracy: 0.8427\n",
      "Epoch 87/300\n",
      "7500/7500 [==============================] - 2s 204us/step - loss: 0.3857 - accuracy: 0.8409\n",
      "Epoch 88/300\n",
      "7500/7500 [==============================] - 2s 210us/step - loss: 0.3844 - accuracy: 0.8425\n",
      "Epoch 89/300\n",
      "7500/7500 [==============================] - 2s 202us/step - loss: 0.3832 - accuracy: 0.8423\n",
      "Epoch 90/300\n",
      "7500/7500 [==============================] - 2s 204us/step - loss: 0.3817 - accuracy: 0.8417\n",
      "Epoch 91/300\n",
      "7500/7500 [==============================] - 2s 210us/step - loss: 0.3782 - accuracy: 0.8447\n",
      "Epoch 92/300\n",
      "7500/7500 [==============================] - 2s 206us/step - loss: 0.3744 - accuracy: 0.8467\n",
      "Epoch 93/300\n",
      "7500/7500 [==============================] - 2s 202us/step - loss: 0.3694 - accuracy: 0.8473\n",
      "Epoch 94/300\n",
      "7500/7500 [==============================] - 2s 200us/step - loss: 0.3643 - accuracy: 0.8503\n",
      "Epoch 95/300\n",
      "7500/7500 [==============================] - 2s 207us/step - loss: 0.3581 - accuracy: 0.8511\n",
      "Epoch 96/300\n",
      "7500/7500 [==============================] - 2s 224us/step - loss: 0.3505 - accuracy: 0.8583\n",
      "Epoch 97/300\n",
      "7500/7500 [==============================] - 2s 227us/step - loss: 0.3470 - accuracy: 0.8580\n",
      "Epoch 98/300\n",
      "7500/7500 [==============================] - 2s 232us/step - loss: 0.3441 - accuracy: 0.8608\n",
      "Epoch 99/300\n",
      "7500/7500 [==============================] - 2s 213us/step - loss: 0.3430 - accuracy: 0.8596\n",
      "Epoch 100/300\n",
      "7500/7500 [==============================] - 2s 209us/step - loss: 0.3406 - accuracy: 0.8611\n",
      "Epoch 101/300\n",
      "7500/7500 [==============================] - 2s 205us/step - loss: 0.3408 - accuracy: 0.8603\n",
      "Epoch 102/300\n",
      "7500/7500 [==============================] - 2s 207us/step - loss: 0.3399 - accuracy: 0.8621\n",
      "Epoch 103/300\n",
      "7500/7500 [==============================] - 2s 207us/step - loss: 0.3394 - accuracy: 0.8615\n",
      "Epoch 104/300\n",
      "7500/7500 [==============================] - 2s 203us/step - loss: 0.3383 - accuracy: 0.8631\n",
      "Epoch 105/300\n",
      "7500/7500 [==============================] - 2s 213us/step - loss: 0.3379 - accuracy: 0.8601\n",
      "Epoch 106/300\n",
      "7500/7500 [==============================] - 2s 207us/step - loss: 0.3388 - accuracy: 0.8613\n",
      "Epoch 107/300\n",
      "7500/7500 [==============================] - 1s 197us/step - loss: 0.3372 - accuracy: 0.8629\n",
      "Epoch 108/300\n",
      "7500/7500 [==============================] - 2s 211us/step - loss: 0.3373 - accuracy: 0.8624\n",
      "Epoch 109/300\n",
      "7500/7500 [==============================] - 2s 206us/step - loss: 0.3367 - accuracy: 0.8597\n",
      "Epoch 110/300\n",
      "7500/7500 [==============================] - 2s 204us/step - loss: 0.3376 - accuracy: 0.8596\n",
      "Epoch 111/300\n",
      "7500/7500 [==============================] - 2s 226us/step - loss: 0.3363 - accuracy: 0.8649\n",
      "Epoch 112/300\n",
      "7500/7500 [==============================] - 2s 204us/step - loss: 0.3353 - accuracy: 0.8619\n",
      "Epoch 113/300\n",
      "7500/7500 [==============================] - 2s 209us/step - loss: 0.3367 - accuracy: 0.8620\n",
      "Epoch 114/300\n",
      "7500/7500 [==============================] - 2s 207us/step - loss: 0.3358 - accuracy: 0.8617\n",
      "Epoch 115/300\n",
      "7500/7500 [==============================] - 2s 208us/step - loss: 0.3361 - accuracy: 0.8620\n",
      "Epoch 116/300\n",
      "7500/7500 [==============================] - 2s 202us/step - loss: 0.3363 - accuracy: 0.8635\n",
      "Epoch 117/300\n",
      "7500/7500 [==============================] - 2s 209us/step - loss: 0.3353 - accuracy: 0.8636\n",
      "Epoch 118/300\n",
      "7500/7500 [==============================] - 2s 211us/step - loss: 0.3343 - accuracy: 0.8636\n",
      "Epoch 119/300\n",
      "7500/7500 [==============================] - ETA: 0s - loss: 0.3356 - accuracy: 0.86 - 2s 211us/step - loss: 0.3353 - accuracy: 0.8639\n",
      "Epoch 120/300\n",
      "7500/7500 [==============================] - 2s 215us/step - loss: 0.3355 - accuracy: 0.8632\n",
      "Epoch 121/300\n",
      "7500/7500 [==============================] - 2s 213us/step - loss: 0.3345 - accuracy: 0.8609\n",
      "Epoch 122/300\n",
      "7500/7500 [==============================] - 1s 200us/step - loss: 0.3356 - accuracy: 0.8639\n",
      "Epoch 123/300\n",
      "7500/7500 [==============================] - 2s 207us/step - loss: 0.3340 - accuracy: 0.8645\n",
      "Epoch 124/300\n",
      "7500/7500 [==============================] - 2s 217us/step - loss: 0.3351 - accuracy: 0.8608\n",
      "Epoch 125/300\n",
      "7500/7500 [==============================] - 1s 199us/step - loss: 0.3341 - accuracy: 0.8637\n",
      "Epoch 126/300\n",
      "7500/7500 [==============================] - 2s 201us/step - loss: 0.3341 - accuracy: 0.8612\n",
      "Epoch 127/300\n",
      "7500/7500 [==============================] - 2s 211us/step - loss: 0.3337 - accuracy: 0.8636\n",
      "Epoch 128/300\n",
      "7500/7500 [==============================] - 2s 205us/step - loss: 0.3346 - accuracy: 0.8655\n",
      "Epoch 129/300\n",
      "7500/7500 [==============================] - 2s 211us/step - loss: 0.3344 - accuracy: 0.8652\n",
      "Epoch 130/300\n",
      "7500/7500 [==============================] - 2s 214us/step - loss: 0.3347 - accuracy: 0.8631\n",
      "Epoch 131/300\n",
      "7500/7500 [==============================] - 2s 205us/step - loss: 0.3329 - accuracy: 0.8635\n",
      "Epoch 132/300\n",
      "7500/7500 [==============================] - 2s 201us/step - loss: 0.3337 - accuracy: 0.8653\n",
      "Epoch 133/300\n",
      "7500/7500 [==============================] - 2s 214us/step - loss: 0.3336 - accuracy: 0.8645\n",
      "Epoch 134/300\n",
      "7500/7500 [==============================] - 2s 204us/step - loss: 0.3333 - accuracy: 0.8649\n",
      "Epoch 135/300\n",
      "7500/7500 [==============================] - 2s 219us/step - loss: 0.3339 - accuracy: 0.8655\n",
      "Epoch 136/300\n",
      "7500/7500 [==============================] - 2s 209us/step - loss: 0.3343 - accuracy: 0.8645\n",
      "Epoch 137/300\n",
      "7500/7500 [==============================] - 2s 210us/step - loss: 0.3329 - accuracy: 0.8651\n",
      "Epoch 138/300\n",
      "7500/7500 [==============================] - 1s 199us/step - loss: 0.3332 - accuracy: 0.8647\n",
      "Epoch 139/300\n",
      "7500/7500 [==============================] - 2s 205us/step - loss: 0.3336 - accuracy: 0.8649\n",
      "Epoch 140/300\n",
      "7500/7500 [==============================] - 2s 210us/step - loss: 0.3325 - accuracy: 0.8640\n",
      "Epoch 141/300\n",
      "7500/7500 [==============================] - 2s 227us/step - loss: 0.3337 - accuracy: 0.8627\n",
      "Epoch 142/300\n",
      "7500/7500 [==============================] - 2s 221us/step - loss: 0.3330 - accuracy: 0.8633\n",
      "Epoch 143/300\n",
      "7500/7500 [==============================] - 2s 216us/step - loss: 0.3338 - accuracy: 0.8651\n",
      "Epoch 144/300\n",
      "7500/7500 [==============================] - 2s 223us/step - loss: 0.3326 - accuracy: 0.8643\n",
      "Epoch 145/300\n",
      "7500/7500 [==============================] - 2s 232us/step - loss: 0.3340 - accuracy: 0.8635\n",
      "Epoch 146/300\n",
      "7500/7500 [==============================] - 2s 224us/step - loss: 0.3335 - accuracy: 0.8633\n",
      "Epoch 147/300\n",
      "7500/7500 [==============================] - 2s 202us/step - loss: 0.3331 - accuracy: 0.8635\n",
      "Epoch 148/300\n",
      "7500/7500 [==============================] - 2s 213us/step - loss: 0.3329 - accuracy: 0.8647\n",
      "Epoch 149/300\n",
      "7500/7500 [==============================] - 2s 203us/step - loss: 0.3327 - accuracy: 0.8656\n",
      "Epoch 150/300\n",
      "7500/7500 [==============================] - 2s 234us/step - loss: 0.3338 - accuracy: 0.8648\n",
      "Epoch 151/300\n",
      "7500/7500 [==============================] - 2s 214us/step - loss: 0.3323 - accuracy: 0.8655\n",
      "Epoch 152/300\n",
      "7500/7500 [==============================] - 2s 204us/step - loss: 0.3328 - accuracy: 0.8645\n",
      "Epoch 153/300\n",
      "7500/7500 [==============================] - 2s 211us/step - loss: 0.3321 - accuracy: 0.8651\n",
      "Epoch 154/300\n",
      "7500/7500 [==============================] - 2s 203us/step - loss: 0.3334 - accuracy: 0.8643\n",
      "Epoch 155/300\n",
      "7500/7500 [==============================] - 2s 208us/step - loss: 0.3331 - accuracy: 0.8631\n",
      "Epoch 156/300\n",
      "7500/7500 [==============================] - 2s 205us/step - loss: 0.3331 - accuracy: 0.8633\n",
      "Epoch 157/300\n",
      "7500/7500 [==============================] - 2s 204us/step - loss: 0.3317 - accuracy: 0.8649\n",
      "Epoch 158/300\n",
      "7500/7500 [==============================] - 2s 203us/step - loss: 0.3329 - accuracy: 0.8639\n",
      "Epoch 159/300\n",
      "7500/7500 [==============================] - 2s 224us/step - loss: 0.3320 - accuracy: 0.8633\n",
      "Epoch 160/300\n",
      "7500/7500 [==============================] - 2s 210us/step - loss: 0.3325 - accuracy: 0.8644\n",
      "Epoch 161/300\n",
      "7500/7500 [==============================] - 2s 208us/step - loss: 0.3310 - accuracy: 0.8661\n",
      "Epoch 162/300\n",
      "7500/7500 [==============================] - 2s 211us/step - loss: 0.3320 - accuracy: 0.8648\n",
      "Epoch 163/300\n",
      "7500/7500 [==============================] - 2s 211us/step - loss: 0.3326 - accuracy: 0.8652\n",
      "Epoch 164/300\n",
      "7500/7500 [==============================] - 2s 204us/step - loss: 0.3319 - accuracy: 0.8643\n",
      "Epoch 165/300\n",
      "7500/7500 [==============================] - 2s 204us/step - loss: 0.3324 - accuracy: 0.8660\n",
      "Epoch 166/300\n",
      "7500/7500 [==============================] - 2s 209us/step - loss: 0.3314 - accuracy: 0.8640\n",
      "Epoch 167/300\n",
      "7500/7500 [==============================] - 2s 203us/step - loss: 0.3317 - accuracy: 0.8655\n",
      "Epoch 168/300\n",
      "7500/7500 [==============================] - 2s 219us/step - loss: 0.3321 - accuracy: 0.8644\n",
      "Epoch 169/300\n",
      "7500/7500 [==============================] - 2s 214us/step - loss: 0.3327 - accuracy: 0.8639\n",
      "Epoch 170/300\n",
      "7500/7500 [==============================] - 2s 215us/step - loss: 0.3316 - accuracy: 0.8631\n",
      "Epoch 171/300\n",
      "7500/7500 [==============================] - 2s 221us/step - loss: 0.3334 - accuracy: 0.8641\n",
      "Epoch 172/300\n",
      "7500/7500 [==============================] - 2s 211us/step - loss: 0.3321 - accuracy: 0.8647\n",
      "Epoch 173/300\n",
      "7500/7500 [==============================] - 2s 210us/step - loss: 0.3319 - accuracy: 0.8667\n",
      "Epoch 174/300\n",
      "7500/7500 [==============================] - 2s 208us/step - loss: 0.3317 - accuracy: 0.8659\n",
      "Epoch 175/300\n",
      "7500/7500 [==============================] - 2s 218us/step - loss: 0.3325 - accuracy: 0.8624\n",
      "Epoch 176/300\n",
      "7500/7500 [==============================] - 2s 200us/step - loss: 0.3321 - accuracy: 0.8659\n",
      "Epoch 177/300\n",
      "7500/7500 [==============================] - 2s 217us/step - loss: 0.3325 - accuracy: 0.8651\n",
      "Epoch 178/300\n",
      "7500/7500 [==============================] - 2s 212us/step - loss: 0.3319 - accuracy: 0.8656\n",
      "Epoch 179/300\n",
      "7500/7500 [==============================] - 2s 205us/step - loss: 0.3323 - accuracy: 0.8645\n",
      "Epoch 180/300\n",
      "7500/7500 [==============================] - 2s 205us/step - loss: 0.3315 - accuracy: 0.8649\n",
      "Epoch 181/300\n",
      "7500/7500 [==============================] - 2s 208us/step - loss: 0.3313 - accuracy: 0.8628\n",
      "Epoch 182/300\n",
      "7500/7500 [==============================] - 2s 205us/step - loss: 0.3320 - accuracy: 0.8639\n",
      "Epoch 183/300\n",
      "7500/7500 [==============================] - 2s 216us/step - loss: 0.3316 - accuracy: 0.8640\n",
      "Epoch 184/300\n",
      "7500/7500 [==============================] - 2s 210us/step - loss: 0.3319 - accuracy: 0.8644\n",
      "Epoch 185/300\n",
      "7500/7500 [==============================] - 1s 198us/step - loss: 0.3313 - accuracy: 0.8637\n",
      "Epoch 186/300\n",
      "7500/7500 [==============================] - 2s 220us/step - loss: 0.3324 - accuracy: 0.8628\n",
      "Epoch 187/300\n",
      "7500/7500 [==============================] - 2s 203us/step - loss: 0.3314 - accuracy: 0.8653\n",
      "Epoch 188/300\n",
      "7500/7500 [==============================] - 1s 198us/step - loss: 0.3319 - accuracy: 0.8628\n",
      "Epoch 189/300\n",
      "7500/7500 [==============================] - 2s 203us/step - loss: 0.3295 - accuracy: 0.8632\n",
      "Epoch 190/300\n",
      "7500/7500 [==============================] - 2s 216us/step - loss: 0.3319 - accuracy: 0.8667\n",
      "Epoch 191/300\n",
      "7500/7500 [==============================] - 1s 198us/step - loss: 0.3311 - accuracy: 0.8633\n",
      "Epoch 192/300\n",
      "7500/7500 [==============================] - 2s 210us/step - loss: 0.3313 - accuracy: 0.8639\n",
      "Epoch 193/300\n",
      "7500/7500 [==============================] - 2s 210us/step - loss: 0.3313 - accuracy: 0.8640\n",
      "Epoch 194/300\n",
      "7500/7500 [==============================] - 2s 203us/step - loss: 0.3319 - accuracy: 0.8652\n",
      "Epoch 195/300\n",
      "7500/7500 [==============================] - 2s 205us/step - loss: 0.3315 - accuracy: 0.8649\n",
      "Epoch 196/300\n",
      "7500/7500 [==============================] - 2s 214us/step - loss: 0.3306 - accuracy: 0.8628\n",
      "Epoch 197/300\n",
      "7500/7500 [==============================] - 2s 204us/step - loss: 0.3311 - accuracy: 0.8641\n",
      "Epoch 198/300\n",
      "7500/7500 [==============================] - 1s 200us/step - loss: 0.3306 - accuracy: 0.8644\n",
      "Epoch 199/300\n",
      "7500/7500 [==============================] - 2s 239us/step - loss: 0.3318 - accuracy: 0.8651\n",
      "Epoch 200/300\n",
      "7500/7500 [==============================] - 2s 254us/step - loss: 0.3311 - accuracy: 0.8644\n",
      "Epoch 201/300\n",
      "7500/7500 [==============================] - 2s 219us/step - loss: 0.3307 - accuracy: 0.8660\n",
      "Epoch 202/300\n",
      "7500/7500 [==============================] - 2s 203us/step - loss: 0.3305 - accuracy: 0.8655\n",
      "Epoch 203/300\n",
      "7500/7500 [==============================] - 2s 203us/step - loss: 0.3305 - accuracy: 0.8657\n",
      "Epoch 204/300\n",
      "7500/7500 [==============================] - 2s 215us/step - loss: 0.3308 - accuracy: 0.8645\n",
      "Epoch 205/300\n",
      "7500/7500 [==============================] - 2s 216us/step - loss: 0.3311 - accuracy: 0.8647\n",
      "Epoch 206/300\n",
      "7500/7500 [==============================] - 2s 225us/step - loss: 0.3308 - accuracy: 0.8657\n",
      "Epoch 207/300\n",
      "7500/7500 [==============================] - 2s 205us/step - loss: 0.3310 - accuracy: 0.8653\n",
      "Epoch 208/300\n",
      "7500/7500 [==============================] - 2s 221us/step - loss: 0.3300 - accuracy: 0.8659\n",
      "Epoch 209/300\n",
      "7500/7500 [==============================] - 2s 221us/step - loss: 0.3308 - accuracy: 0.8631\n",
      "Epoch 210/300\n",
      "7500/7500 [==============================] - 2s 238us/step - loss: 0.3306 - accuracy: 0.8660\n",
      "Epoch 211/300\n",
      "7500/7500 [==============================] - 2s 215us/step - loss: 0.3307 - accuracy: 0.8636\n",
      "Epoch 212/300\n",
      "7500/7500 [==============================] - 2s 208us/step - loss: 0.3305 - accuracy: 0.8629\n",
      "Epoch 213/300\n",
      "7500/7500 [==============================] - 2s 210us/step - loss: 0.3301 - accuracy: 0.8671\n",
      "Epoch 214/300\n",
      "7500/7500 [==============================] - 2s 212us/step - loss: 0.3306 - accuracy: 0.8641\n",
      "Epoch 215/300\n",
      "7500/7500 [==============================] - 2s 209us/step - loss: 0.3299 - accuracy: 0.8659\n",
      "Epoch 216/300\n",
      "7500/7500 [==============================] - 2s 218us/step - loss: 0.3306 - accuracy: 0.8641\n",
      "Epoch 217/300\n",
      "7500/7500 [==============================] - 2s 204us/step - loss: 0.3301 - accuracy: 0.8636\n",
      "Epoch 218/300\n",
      "7500/7500 [==============================] - 2s 221us/step - loss: 0.3320 - accuracy: 0.8641\n",
      "Epoch 219/300\n",
      "7500/7500 [==============================] - 2s 204us/step - loss: 0.3296 - accuracy: 0.8652\n",
      "Epoch 220/300\n",
      "7500/7500 [==============================] - 2s 214us/step - loss: 0.3300 - accuracy: 0.8644\n",
      "Epoch 221/300\n",
      "7500/7500 [==============================] - 2s 213us/step - loss: 0.3306 - accuracy: 0.8641\n",
      "Epoch 222/300\n",
      "7500/7500 [==============================] - 2s 215us/step - loss: 0.3296 - accuracy: 0.8637\n",
      "Epoch 223/300\n",
      "7500/7500 [==============================] - 2s 224us/step - loss: 0.3301 - accuracy: 0.8623\n",
      "Epoch 224/300\n",
      "7500/7500 [==============================] - 2s 211us/step - loss: 0.3300 - accuracy: 0.8644\n",
      "Epoch 225/300\n",
      "7500/7500 [==============================] - 2s 218us/step - loss: 0.3308 - accuracy: 0.8648\n",
      "Epoch 226/300\n",
      "7500/7500 [==============================] - 2s 208us/step - loss: 0.3307 - accuracy: 0.8655\n",
      "Epoch 227/300\n",
      "7500/7500 [==============================] - 2s 217us/step - loss: 0.3304 - accuracy: 0.8636\n",
      "Epoch 228/300\n",
      "7500/7500 [==============================] - 2s 201us/step - loss: 0.3308 - accuracy: 0.8633\n",
      "Epoch 229/300\n",
      "7500/7500 [==============================] - 2s 212us/step - loss: 0.3306 - accuracy: 0.8648\n",
      "Epoch 230/300\n",
      "7500/7500 [==============================] - 2s 210us/step - loss: 0.3300 - accuracy: 0.8628\n",
      "Epoch 231/300\n",
      "7500/7500 [==============================] - 2s 206us/step - loss: 0.3309 - accuracy: 0.8632\n",
      "Epoch 232/300\n",
      "7500/7500 [==============================] - 2s 206us/step - loss: 0.3297 - accuracy: 0.8647\n",
      "Epoch 233/300\n",
      "7500/7500 [==============================] - 2s 203us/step - loss: 0.3300 - accuracy: 0.8645\n",
      "Epoch 234/300\n",
      "7500/7500 [==============================] - 2s 206us/step - loss: 0.3297 - accuracy: 0.8673\n",
      "Epoch 235/300\n",
      "7500/7500 [==============================] - 2s 205us/step - loss: 0.3299 - accuracy: 0.8644\n",
      "Epoch 236/300\n",
      "7500/7500 [==============================] - 2s 205us/step - loss: 0.3306 - accuracy: 0.8639\n",
      "Epoch 237/300\n",
      "7500/7500 [==============================] - 1s 200us/step - loss: 0.3309 - accuracy: 0.8645\n",
      "Epoch 238/300\n",
      "7500/7500 [==============================] - 2s 200us/step - loss: 0.3298 - accuracy: 0.8637\n",
      "Epoch 239/300\n",
      "7500/7500 [==============================] - 2s 201us/step - loss: 0.3303 - accuracy: 0.8640\n",
      "Epoch 240/300\n",
      "7500/7500 [==============================] - 1s 200us/step - loss: 0.3306 - accuracy: 0.8631\n",
      "Epoch 241/300\n",
      "7500/7500 [==============================] - 2s 206us/step - loss: 0.3299 - accuracy: 0.8627\n",
      "Epoch 242/300\n",
      "7500/7500 [==============================] - 1s 198us/step - loss: 0.3294 - accuracy: 0.8656\n",
      "Epoch 243/300\n",
      "7500/7500 [==============================] - 1s 200us/step - loss: 0.3300 - accuracy: 0.8632\n",
      "Epoch 244/300\n",
      "7500/7500 [==============================] - 2s 202us/step - loss: 0.3301 - accuracy: 0.8631\n",
      "Epoch 245/300\n",
      "7500/7500 [==============================] - 1s 197us/step - loss: 0.3306 - accuracy: 0.8633\n",
      "Epoch 246/300\n",
      "7500/7500 [==============================] - 2s 205us/step - loss: 0.3302 - accuracy: 0.8657\n",
      "Epoch 247/300\n",
      "7500/7500 [==============================] - 2s 205us/step - loss: 0.3300 - accuracy: 0.8636\n",
      "Epoch 248/300\n",
      "7500/7500 [==============================] - 2s 203us/step - loss: 0.3314 - accuracy: 0.8648\n",
      "Epoch 249/300\n",
      "7500/7500 [==============================] - 2s 206us/step - loss: 0.3297 - accuracy: 0.8659\n",
      "Epoch 250/300\n",
      "7500/7500 [==============================] - 2s 214us/step - loss: 0.3304 - accuracy: 0.8637\n",
      "Epoch 251/300\n",
      "7500/7500 [==============================] - 1s 198us/step - loss: 0.3307 - accuracy: 0.8655\n",
      "Epoch 252/300\n",
      "7500/7500 [==============================] - 2s 222us/step - loss: 0.3303 - accuracy: 0.8632\n",
      "Epoch 253/300\n",
      "7500/7500 [==============================] - 2s 226us/step - loss: 0.3304 - accuracy: 0.8656\n",
      "Epoch 254/300\n",
      "7500/7500 [==============================] - 2s 217us/step - loss: 0.3301 - accuracy: 0.8632\n",
      "Epoch 255/300\n",
      "7500/7500 [==============================] - 2s 216us/step - loss: 0.3299 - accuracy: 0.8655\n",
      "Epoch 256/300\n",
      "7500/7500 [==============================] - 2s 215us/step - loss: 0.3293 - accuracy: 0.8649\n",
      "Epoch 257/300\n",
      "7500/7500 [==============================] - 2s 219us/step - loss: 0.3299 - accuracy: 0.8661\n",
      "Epoch 258/300\n",
      "7500/7500 [==============================] - 2s 225us/step - loss: 0.3302 - accuracy: 0.8639\n",
      "Epoch 259/300\n",
      "7500/7500 [==============================] - 2s 212us/step - loss: 0.3300 - accuracy: 0.8635\n",
      "Epoch 260/300\n",
      "7500/7500 [==============================] - 2s 233us/step - loss: 0.3295 - accuracy: 0.8652\n",
      "Epoch 261/300\n",
      "7500/7500 [==============================] - 2s 201us/step - loss: 0.3299 - accuracy: 0.8648\n",
      "Epoch 262/300\n",
      "7500/7500 [==============================] - 2s 204us/step - loss: 0.3303 - accuracy: 0.8644\n",
      "Epoch 263/300\n",
      "7500/7500 [==============================] - 2s 203us/step - loss: 0.3298 - accuracy: 0.8669\n",
      "Epoch 264/300\n",
      "7500/7500 [==============================] - 2s 207us/step - loss: 0.3296 - accuracy: 0.8660\n",
      "Epoch 265/300\n",
      "7500/7500 [==============================] - 2s 216us/step - loss: 0.3300 - accuracy: 0.8663\n",
      "Epoch 266/300\n",
      "7500/7500 [==============================] - 2s 213us/step - loss: 0.3298 - accuracy: 0.8647\n",
      "Epoch 267/300\n",
      "7500/7500 [==============================] - 2s 204us/step - loss: 0.3307 - accuracy: 0.8640\n",
      "Epoch 268/300\n",
      "7500/7500 [==============================] - 2s 211us/step - loss: 0.3300 - accuracy: 0.8657\n",
      "Epoch 269/300\n",
      "7500/7500 [==============================] - 2s 210us/step - loss: 0.3297 - accuracy: 0.8649\n",
      "Epoch 270/300\n",
      "7500/7500 [==============================] - 2s 212us/step - loss: 0.3299 - accuracy: 0.8641\n",
      "Epoch 271/300\n",
      "7500/7500 [==============================] - 2s 212us/step - loss: 0.3304 - accuracy: 0.8643\n",
      "Epoch 272/300\n",
      "7500/7500 [==============================] - 2s 207us/step - loss: 0.3291 - accuracy: 0.8629\n",
      "Epoch 273/300\n",
      "7500/7500 [==============================] - 2s 219us/step - loss: 0.3298 - accuracy: 0.8648\n",
      "Epoch 274/300\n",
      "7500/7500 [==============================] - 2s 201us/step - loss: 0.3314 - accuracy: 0.8655\n",
      "Epoch 275/300\n",
      "7500/7500 [==============================] - 2s 206us/step - loss: 0.3301 - accuracy: 0.8631\n",
      "Epoch 276/300\n",
      "7500/7500 [==============================] - 2s 207us/step - loss: 0.3297 - accuracy: 0.8639\n",
      "Epoch 277/300\n",
      "7500/7500 [==============================] - 2s 208us/step - loss: 0.3298 - accuracy: 0.8632\n",
      "Epoch 278/300\n",
      "7500/7500 [==============================] - 2s 204us/step - loss: 0.3298 - accuracy: 0.8665\n",
      "Epoch 279/300\n",
      "7500/7500 [==============================] - 2s 211us/step - loss: 0.3309 - accuracy: 0.8629\n",
      "Epoch 280/300\n",
      "7500/7500 [==============================] - 2s 209us/step - loss: 0.3302 - accuracy: 0.8637\n",
      "Epoch 281/300\n",
      "7500/7500 [==============================] - 2s 207us/step - loss: 0.3301 - accuracy: 0.8647\n",
      "Epoch 282/300\n",
      "7500/7500 [==============================] - 2s 205us/step - loss: 0.3299 - accuracy: 0.8625\n",
      "Epoch 283/300\n",
      "7500/7500 [==============================] - 2s 212us/step - loss: 0.3300 - accuracy: 0.8659\n",
      "Epoch 284/300\n",
      "7500/7500 [==============================] - 2s 224us/step - loss: 0.3298 - accuracy: 0.8635\n",
      "Epoch 285/300\n",
      "7500/7500 [==============================] - 2s 226us/step - loss: 0.3295 - accuracy: 0.8652\n",
      "Epoch 286/300\n",
      "7500/7500 [==============================] - 2s 223us/step - loss: 0.3293 - accuracy: 0.8653\n",
      "Epoch 287/300\n",
      "7500/7500 [==============================] - 2s 231us/step - loss: 0.3297 - accuracy: 0.8639\n",
      "Epoch 288/300\n",
      "7500/7500 [==============================] - 2s 235us/step - loss: 0.3304 - accuracy: 0.8635\n",
      "Epoch 289/300\n",
      "7500/7500 [==============================] - 2s 258us/step - loss: 0.3302 - accuracy: 0.8641\n",
      "Epoch 290/300\n",
      "7500/7500 [==============================] - 2s 231us/step - loss: 0.3302 - accuracy: 0.8647\n",
      "Epoch 291/300\n",
      "7500/7500 [==============================] - 2s 248us/step - loss: 0.3298 - accuracy: 0.8643\n",
      "Epoch 292/300\n",
      "7500/7500 [==============================] - 2s 223us/step - loss: 0.3296 - accuracy: 0.8631\n",
      "Epoch 293/300\n",
      "7500/7500 [==============================] - 2s 228us/step - loss: 0.3306 - accuracy: 0.8651\n",
      "Epoch 294/300\n",
      "7500/7500 [==============================] - 2s 233us/step - loss: 0.3293 - accuracy: 0.8659\n",
      "Epoch 295/300\n",
      "7500/7500 [==============================] - 2s 222us/step - loss: 0.3297 - accuracy: 0.8647\n",
      "Epoch 296/300\n",
      "7500/7500 [==============================] - 2s 223us/step - loss: 0.3292 - accuracy: 0.8643\n",
      "Epoch 297/300\n",
      "7500/7500 [==============================] - 2s 215us/step - loss: 0.3307 - accuracy: 0.86560s - loss: 0.3\n",
      "Epoch 298/300\n",
      "7500/7500 [==============================] - 2s 211us/step - loss: 0.3294 - accuracy: 0.8635\n",
      "Epoch 299/300\n",
      "7500/7500 [==============================] - 2s 211us/step - loss: 0.3298 - accuracy: 0.8645\n",
      "Epoch 300/300\n",
      "7500/7500 [==============================] - 2s 216us/step - loss: 0.3290 - accuracy: 0.8632\n"
     ]
    },
    {
     "data": {
      "text/plain": [
       "<keras.callbacks.callbacks.History at 0x1686ce66c08>"
      ]
     },
     "execution_count": 33,
     "metadata": {},
     "output_type": "execute_result"
    }
   ],
   "source": [
    "customer_classifier.fit(X_train,y_train,batch_size=10,nb_epoch=300)"
   ]
  },
  {
   "cell_type": "markdown",
   "metadata": {},
   "source": [
    "#200 epochs \n",
    "loss: 0.3889 - accuracy: 0.8424\n",
    "\n",
    "#300 epochs\n",
    "loss: 0.3885 - accuracy: 0.8428\n",
    "        \n",
    "#with three hidden layers\n",
    "loss: 0.3885 - accuracy: 0.8428\n"
   ]
  },
  {
   "cell_type": "code",
   "execution_count": 34,
   "metadata": {},
   "outputs": [],
   "source": [
    "predictions = customer_classifier.predict(X_test)"
   ]
  },
  {
   "cell_type": "code",
   "execution_count": 35,
   "metadata": {},
   "outputs": [
    {
     "data": {
      "text/plain": [
       "array([[0.19943735],\n",
       "       [0.24256527],\n",
       "       [0.01258847],\n",
       "       ...,\n",
       "       [0.04772026],\n",
       "       [0.20202003],\n",
       "       [0.01648543]], dtype=float32)"
      ]
     },
     "execution_count": 35,
     "metadata": {},
     "output_type": "execute_result"
    }
   ],
   "source": [
    "predictions"
   ]
  },
  {
   "cell_type": "code",
   "execution_count": 36,
   "metadata": {},
   "outputs": [
    {
     "data": {
      "text/plain": [
       "array([0.5250465 , 0.70469296, 0.52646387, 0.5708631 , 0.9561365 ,\n",
       "       0.90957355, 0.86833906, 0.55384517, 0.69690317, 0.8786441 ,\n",
       "       0.7796179 , 0.8571775 , 0.5424065 , 0.9561365 , 0.6620451 ,\n",
       "       0.58930486, 0.8879441 , 0.78076655, 0.85152596, 0.6545615 ,\n",
       "       0.6966347 , 0.63047826, 0.5855626 , 0.9561365 , 0.6156502 ,\n",
       "       0.9561365 , 0.8186142 , 0.6239474 , 0.5586498 , 0.9561365 ,\n",
       "       0.64739954, 0.68254566, 0.9561365 , 0.9561365 , 0.5755612 ,\n",
       "       0.83240914, 0.6090769 , 0.94736826, 0.9561365 , 0.53301203,\n",
       "       0.6452181 , 0.567491  , 0.65021765, 0.65212774, 0.9561365 ,\n",
       "       0.7421742 , 0.6585463 , 0.7030073 , 0.8927306 , 0.86540526,\n",
       "       0.52840126, 0.76533794, 0.73960006, 0.61879   , 0.6293018 ,\n",
       "       0.91891634, 0.93112504, 0.52762574, 0.72227776, 0.54624754,\n",
       "       0.5580486 , 0.53110677, 0.5937949 , 0.5434816 , 0.513875  ,\n",
       "       0.5361966 , 0.61903214, 0.7425712 , 0.7054885 , 0.5561688 ,\n",
       "       0.8168739 , 0.90757763, 0.6450994 , 0.575356  , 0.9561365 ,\n",
       "       0.71094036, 0.8352634 , 0.6043448 , 0.94284576, 0.9561365 ,\n",
       "       0.62506235, 0.5449778 , 0.5469788 , 0.736054  , 0.74873126,\n",
       "       0.84971505, 0.9561365 , 0.9561365 , 0.7194323 , 0.7715612 ,\n",
       "       0.77714634, 0.6130364 , 0.9561365 , 0.80178314, 0.9561365 ,\n",
       "       0.8229889 , 0.853694  , 0.7999587 , 0.5464964 , 0.5230772 ,\n",
       "       0.64077955, 0.9058045 , 0.945989  , 0.9515451 , 0.539645  ,\n",
       "       0.73891026, 0.7793002 , 0.87970144, 0.62276524, 0.9482137 ,\n",
       "       0.62516266, 0.5239419 , 0.8600502 , 0.71069586, 0.69966704,\n",
       "       0.7506527 , 0.6442754 , 0.53424895, 0.9561365 , 0.8367492 ,\n",
       "       0.6755972 , 0.5142738 , 0.84647727, 0.802937  , 0.62992746,\n",
       "       0.7613812 , 0.93513346, 0.8461051 , 0.9035009 , 0.5643101 ,\n",
       "       0.5176194 , 0.5065081 , 0.9561365 , 0.9561365 , 0.75705075,\n",
       "       0.5768508 , 0.7081501 , 0.52431583, 0.6445689 , 0.59379894,\n",
       "       0.7480749 , 0.55364466, 0.7568701 , 0.55790275, 0.9561365 ,\n",
       "       0.76978624, 0.74919736, 0.92833805, 0.7157233 , 0.5888798 ,\n",
       "       0.5483134 , 0.54513747, 0.8925563 , 0.70121205, 0.52278286,\n",
       "       0.74137104, 0.8168076 , 0.9189352 , 0.74980086, 0.75981253,\n",
       "       0.514215  , 0.58745956, 0.54538405, 0.68997735, 0.9561365 ,\n",
       "       0.5427728 , 0.5600939 , 0.9561365 , 0.9561365 , 0.5292723 ,\n",
       "       0.5357761 , 0.6255991 , 0.7483991 , 0.71439946, 0.57484365,\n",
       "       0.7473893 , 0.5551331 , 0.86180216, 0.8881576 , 0.5813366 ,\n",
       "       0.9373641 , 0.59022886, 0.61363393, 0.714333  , 0.7515942 ,\n",
       "       0.9561365 , 0.9262519 , 0.9561365 , 0.51978356, 0.7416503 ,\n",
       "       0.5675331 , 0.85467374, 0.75620115, 0.6419708 , 0.85282326,\n",
       "       0.7939622 , 0.67090195, 0.8170671 , 0.6290594 , 0.5885948 ,\n",
       "       0.93651223, 0.6689394 , 0.54019225, 0.51273674, 0.78881645,\n",
       "       0.58598936, 0.70123523, 0.9561365 , 0.53613806, 0.9561365 ,\n",
       "       0.5034048 , 0.59724844, 0.9561365 , 0.8681574 , 0.861299  ,\n",
       "       0.6964819 , 0.60165435, 0.85127974, 0.6290108 , 0.5760801 ,\n",
       "       0.92192304, 0.8160564 , 0.87122256, 0.7735293 , 0.9395132 ,\n",
       "       0.84616137, 0.9561365 , 0.7910632 , 0.924448  , 0.51681626,\n",
       "       0.9101769 , 0.6873145 , 0.8126888 , 0.9561365 , 0.67165124,\n",
       "       0.88715816, 0.61022097, 0.9561365 , 0.8397044 , 0.9561365 ,\n",
       "       0.6879107 , 0.7195967 , 0.5158633 , 0.7551894 , 0.9561365 ,\n",
       "       0.6938955 , 0.6435072 , 0.9561365 , 0.72675896, 0.73923874,\n",
       "       0.61936295, 0.80797017, 0.9561365 , 0.9561365 , 0.8757268 ,\n",
       "       0.6215098 , 0.7461527 , 0.54781383, 0.6164254 , 0.65391636,\n",
       "       0.67748046, 0.5843893 , 0.8349316 , 0.7884016 , 0.6166046 ,\n",
       "       0.5420152 , 0.9561365 , 0.9174793 , 0.7763711 , 0.5068363 ,\n",
       "       0.8599664 , 0.6469406 , 0.5053531 , 0.638929  , 0.7090325 ,\n",
       "       0.7090333 , 0.61986786, 0.6216026 , 0.9561365 , 0.7695123 ,\n",
       "       0.5621655 , 0.8754952 , 0.9561365 , 0.71435213, 0.53309864,\n",
       "       0.9545311 , 0.69650877, 0.8194133 , 0.5014461 , 0.71518266,\n",
       "       0.5018517 , 0.7589828 , 0.60077626, 0.80621934, 0.8912428 ,\n",
       "       0.60919297, 0.9561365 , 0.94572175, 0.5047397 , 0.72917914,\n",
       "       0.9344224 , 0.5347412 , 0.884714  , 0.7162837 , 0.7002727 ,\n",
       "       0.72056955, 0.9254705 , 0.5251745 , 0.70213675, 0.682087  ,\n",
       "       0.8989135 , 0.5718913 , 0.6070733 , 0.536954  , 0.8854995 ,\n",
       "       0.9561365 , 0.9561365 , 0.57748216, 0.92732614, 0.60459167,\n",
       "       0.61961687, 0.592548  , 0.5390836 , 0.61804914, 0.9561365 ,\n",
       "       0.6299473 , 0.7245823 , 0.8803527 , 0.58364785, 0.57366765,\n",
       "       0.7377071 , 0.83552366, 0.61587983, 0.809449  , 0.9561365 ,\n",
       "       0.8955654 , 0.9561365 , 0.70252746, 0.8226508 , 0.91228724,\n",
       "       0.5188693 ], dtype=float32)"
      ]
     },
     "execution_count": 36,
     "metadata": {},
     "output_type": "execute_result"
    }
   ],
   "source": [
    "predictions [predictions > 0.50]"
   ]
  },
  {
   "cell_type": "code",
   "execution_count": 37,
   "metadata": {},
   "outputs": [
    {
     "name": "stdout",
     "output_type": "stream",
     "text": [
      "Model: \"sequential_1\"\n",
      "_________________________________________________________________\n",
      "Layer (type)                 Output Shape              Param #   \n",
      "=================================================================\n",
      "dense_1 (Dense)              (None, 6)                 72        \n",
      "_________________________________________________________________\n",
      "dense_2 (Dense)              (None, 6)                 42        \n",
      "_________________________________________________________________\n",
      "dense_3 (Dense)              (None, 6)                 42        \n",
      "_________________________________________________________________\n",
      "dense_4 (Dense)              (None, 1)                 7         \n",
      "=================================================================\n",
      "Total params: 163\n",
      "Trainable params: 163\n",
      "Non-trainable params: 0\n",
      "_________________________________________________________________\n"
     ]
    }
   ],
   "source": [
    "customer_classifier.summary()"
   ]
  },
  {
   "cell_type": "code",
   "execution_count": 38,
   "metadata": {},
   "outputs": [],
   "source": [
    "customer_classifier.save('d:/dataset/customer_churn_model.h5')"
   ]
  },
  {
   "cell_type": "code",
   "execution_count": 39,
   "metadata": {},
   "outputs": [],
   "source": [
    "from keras.models import load_model\n",
    "customer_churn = load_model('d:/dataset/customer_churn_model.h5')\n",
    "\n",
    "#customer_churn.predict()"
   ]
  },
  {
   "cell_type": "code",
   "execution_count": 40,
   "metadata": {},
   "outputs": [
    {
     "data": {
      "text/plain": [
       "array([[0.19943735],\n",
       "       [0.24256527],\n",
       "       [0.01258847],\n",
       "       ...,\n",
       "       [0.04772026],\n",
       "       [0.20202003],\n",
       "       [0.01648543]], dtype=float32)"
      ]
     },
     "execution_count": 40,
     "metadata": {},
     "output_type": "execute_result"
    }
   ],
   "source": [
    "predictions"
   ]
  },
  {
   "cell_type": "code",
   "execution_count": 41,
   "metadata": {},
   "outputs": [],
   "source": [
    "pred_y = [predictions >= 0.50]"
   ]
  },
  {
   "cell_type": "code",
   "execution_count": 47,
   "metadata": {},
   "outputs": [
    {
     "data": {
      "text/plain": [
       "1"
      ]
     },
     "execution_count": 47,
     "metadata": {},
     "output_type": "execute_result"
    }
   ],
   "source": [
    "len(pred_y)"
   ]
  },
  {
   "cell_type": "code",
   "execution_count": 46,
   "metadata": {},
   "outputs": [
    {
     "data": {
      "text/plain": [
       "2500"
      ]
     },
     "execution_count": 46,
     "metadata": {},
     "output_type": "execute_result"
    }
   ],
   "source": [
    "len(y_test)"
   ]
  },
  {
   "cell_type": "code",
   "execution_count": 44,
   "metadata": {},
   "outputs": [],
   "source": [
    "from sklearn.metrics import confusion_matrix,accuracy_score"
   ]
  },
  {
   "cell_type": "code",
   "execution_count": 48,
   "metadata": {},
   "outputs": [],
   "source": [
    "CM = confusion_matrix(y_test,pred_y[0])"
   ]
  },
  {
   "cell_type": "code",
   "execution_count": 49,
   "metadata": {},
   "outputs": [
    {
     "data": {
      "text/plain": [
       "array([[1893,  109],\n",
       "       [ 266,  232]], dtype=int64)"
      ]
     },
     "execution_count": 49,
     "metadata": {},
     "output_type": "execute_result"
    }
   ],
   "source": [
    "CM"
   ]
  },
  {
   "cell_type": "code",
   "execution_count": null,
   "metadata": {},
   "outputs": [],
   "source": []
  }
 ],
 "metadata": {
  "kernelspec": {
   "display_name": "Python 3",
   "language": "python",
   "name": "python3"
  },
  "language_info": {
   "codemirror_mode": {
    "name": "ipython",
    "version": 3
   },
   "file_extension": ".py",
   "mimetype": "text/x-python",
   "name": "python",
   "nbconvert_exporter": "python",
   "pygments_lexer": "ipython3",
   "version": "3.7.4"
  }
 },
 "nbformat": 4,
 "nbformat_minor": 2
}
